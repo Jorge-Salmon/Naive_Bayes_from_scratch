{
 "cells": [
  {
   "cell_type": "markdown",
   "metadata": {},
   "source": [
    "# Coding Naive Bayes Classifier from scratch"
   ]
  },
  {
   "cell_type": "code",
   "execution_count": 12,
   "metadata": {},
   "outputs": [],
   "source": [
    "import numpy as np\n",
    "import pandas as pd\n",
    "from sklearn.model_selection import train_test_split\n",
    "from sklearn.metrics import accuracy_score"
   ]
  },
  {
   "cell_type": "markdown",
   "metadata": {},
   "source": [
    "***The model I coded: ***"
   ]
  },
  {
   "cell_type": "code",
   "execution_count": 13,
   "metadata": {},
   "outputs": [],
   "source": [
    "class NaiveBayesClass(object):\n",
    "\n",
    "    def fit(self, X, y):\n",
    "        self.n_samples, self.n_features = X.shape\n",
    "        self.header_list=list(X)\n",
    "        self.y=y\n",
    "        self.X=X\n",
    "        \n",
    "        # Probabilidades de las features\n",
    "        feature_list=[]\n",
    "        for i in range(self.n_features):\n",
    "            temp=X.iloc[:,i].value_counts()\n",
    "            feature_list.append(temp)\n",
    "            # Series containing all the probabilities of the features\n",
    "        self.features_prob = [x / self.n_samples for x in feature_list]  \n",
    "        \n",
    "        # Probabilities of the classes\n",
    "        class_counts=y.value_counts()\n",
    "        self.class_prob=class_counts/self.n_samples\n",
    "        self.classes=y.unique()\n",
    "        \n",
    "    def predict(self, X_test):\n",
    "        n = X_test.shape[0]\n",
    "        result_list=[]\n",
    "        for i in range(n):\n",
    "            final_probabilities_list=[]\n",
    "            test_feature_list=X_test.iloc[i,:]\n",
    "            Product_denominator=1\n",
    "            \n",
    "            for k in range(self.n_features):\n",
    "                    temp_total_Probs=self.features_prob[k]\n",
    "                    Product_denominator*=temp_total_Probs[test_feature_list[k]]\n",
    "                    \n",
    "            for j in self.classes:\n",
    "                self.class_prob[j]\n",
    "                \n",
    "                # Conditional probabilities\n",
    "                Product_numerator=1\n",
    "                temp_df=pd.DataFrame()\n",
    "                indexes_list = [k for k, value in enumerate(self.y) if value == j]  \n",
    "                temp_df=self.X.iloc[indexes_list] # Dataframe con todos los elementos agrupados por clase\n",
    "                    \n",
    "                for m, n in zip(self.header_list, test_feature_list):\n",
    "                    temp_s=pd.Series([])\n",
    "                    temp_s=temp_s.append(temp_df[m])\n",
    "                    vector_prob=temp_s.value_counts()/len(indexes_list)\n",
    "                    final_prob=vector_prob[n]\n",
    "                    Product_numerator*=final_prob\n",
    "                            \n",
    "                # comparar probs y printear prediccion\n",
    "                BayesProb=(Product_numerator*self.class_prob[j])/Product_denominator\n",
    "                final_probabilities_list.append(BayesProb)\n",
    "                \n",
    "            max_idx=np.argmax(np.array(final_probabilities_list))\n",
    "            result=self.classes[max_idx]\n",
    "            result_list.append(result)\n",
    "        return result_list "
   ]
  },
  {
   "cell_type": "markdown",
   "metadata": {},
   "source": [
    "## Testing the classifier:"
   ]
  },
  {
   "cell_type": "code",
   "execution_count": 14,
   "metadata": {},
   "outputs": [],
   "source": [
    "df=pd.read_csv('train.csv')\n",
    "\n",
    "sexos={\"male\":0, \"female\":1}\n",
    "df.Sex=[sexos[item] for item in df.Sex]\n",
    "df.Age.fillna(df.Age.mean(), inplace=True)\n",
    "df.Age=df.Age.astype(int)\n",
    "\n",
    "df.loc[ df['Age'] <= 11, 'Age'] = 0\n",
    "df.loc[(df['Age'] > 11) & (df['Age'] <= 18), 'Age'] = 1\n",
    "df.loc[(df['Age'] > 18) & (df['Age'] <= 22), 'Age'] = 2\n",
    "df.loc[(df['Age'] > 22) & (df['Age'] <= 27), 'Age'] = 3\n",
    "df.loc[(df['Age'] > 27) & (df['Age'] <= 33), 'Age'] = 4\n",
    "df.loc[(df['Age'] > 33) & (df['Age'] <= 40), 'Age'] = 5\n",
    "df.loc[(df['Age'] > 40) & (df['Age'] <= 66), 'Age'] = 6\n",
    "df.loc[ df['Age'] > 66, 'Age'] = 7\n",
    "\n",
    "features=[\"Pclass\", \"Sex\", \"Age\"]\n",
    "X=df[features]\n",
    "y=df.Survived\n",
    "\n",
    "X_train, X_test, y_train, y_test = train_test_split(X, y, test_size=0.3, random_state=42)"
   ]
  },
  {
   "cell_type": "code",
   "execution_count": 15,
   "metadata": {},
   "outputs": [
    {
     "name": "stdout",
     "output_type": "stream",
     "text": [
      "accuracy score: 0.7873134328358209\n"
     ]
    }
   ],
   "source": [
    "model=NaiveBayesClass()\n",
    "model.fit(X_train, y_train)\n",
    "result=model.predict(X_test)\n",
    "\n",
    "print('My Naive Bayes Classifier accuracy score:', accuracy_score(y_test, result))"
   ]
  },
  {
   "cell_type": "markdown",
   "metadata": {},
   "source": [
    "***Now, comparing with RandomForestClassifier from Scikit-learn***"
   ]
  },
  {
   "cell_type": "code",
   "execution_count": 28,
   "metadata": {},
   "outputs": [
    {
     "name": "stdout",
     "output_type": "stream",
     "text": [
      "Sklearn RandomForestClassifier accuracy score: 0.7835820895522388\n"
     ]
    }
   ],
   "source": [
    "from sklearn.ensemble import RandomForestClassifier\n",
    "\n",
    "RF_model=RandomForestClassifier(n_estimators=100, random_state=0)\n",
    "RF_model.fit(X_train,y_train)\n",
    "RF_result=RF_model.predict(X_test)\n",
    "print('Sklearn RandomForestClassifier accuracy score:', accuracy_score(y_test, RF_result))"
   ]
  },
  {
   "cell_type": "markdown",
   "metadata": {},
   "source": [
    "***My Naive Bayes Classifier works perfectly!***"
   ]
  }
 ],
 "metadata": {
  "kernelspec": {
   "display_name": "Python 3",
   "language": "python",
   "name": "python3"
  },
  "language_info": {
   "codemirror_mode": {
    "name": "ipython",
    "version": 3
   },
   "file_extension": ".py",
   "mimetype": "text/x-python",
   "name": "python",
   "nbconvert_exporter": "python",
   "pygments_lexer": "ipython3",
   "version": "3.7.4"
  }
 },
 "nbformat": 4,
 "nbformat_minor": 2
}
